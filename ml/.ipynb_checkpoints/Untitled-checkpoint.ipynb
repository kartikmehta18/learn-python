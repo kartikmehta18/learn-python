{
 "cells": [
  {
   "cell_type": "raw",
   "id": "5ad7c5d9-1b78-49c0-84e3-156cc3d36ae4",
   "metadata": {},
   "source": [
    "numpy"
   ]
  },
  {
   "cell_type": "code",
   "execution_count": 1,
   "id": "2d8db5fc-bfb3-4455-8da8-952a5f182770",
   "metadata": {},
   "outputs": [
    {
     "name": "stdout",
     "output_type": "stream",
     "text": [
      "Requirement already satisfied: numpy in c:\\users\\dell\\appdata\\local\\programs\\python\\python311\\lib\\site-packages (2.1.3)Note: you may need to restart the kernel to use updated packages.\n",
      "\n"
     ]
    }
   ],
   "source": [
    "pip install numpy"
   ]
  },
  {
   "cell_type": "code",
   "execution_count": 4,
   "id": "c0f7d27c-a94a-4edf-be29-fb2181add18b",
   "metadata": {},
   "outputs": [],
   "source": [
    "import numpy as np"
   ]
  },
  {
   "cell_type": "code",
   "execution_count": 5,
   "id": "746b5e5a-9963-4450-98cd-26f1127125f0",
   "metadata": {},
   "outputs": [],
   "source": [
    "my_list=[1,2,3,4]\n",
    "arr=np.array(my_list)"
   ]
  },
  {
   "cell_type": "code",
   "execution_count": 6,
   "id": "227c0a2e-6394-469c-8421-9f0f2cb1a4e7",
   "metadata": {},
   "outputs": [
    {
     "data": {
      "text/plain": [
       "numpy.ndarray"
      ]
     },
     "execution_count": 6,
     "metadata": {},
     "output_type": "execute_result"
    }
   ],
   "source": [
    "type(arr)"
   ]
  },
  {
   "cell_type": "code",
   "execution_count": 7,
   "id": "38f8d549-8f11-4106-9fa3-addfd25cffa2",
   "metadata": {},
   "outputs": [
    {
     "name": "stdout",
     "output_type": "stream",
     "text": [
      "[1 2 3 4]\n"
     ]
    }
   ],
   "source": [
    "print(arr)"
   ]
  },
  {
   "cell_type": "code",
   "execution_count": 9,
   "id": "3d52b726-b0fb-4ce2-95f5-2d2b02ac492c",
   "metadata": {},
   "outputs": [
    {
     "data": {
      "text/plain": [
       "(4,)"
      ]
     },
     "execution_count": 9,
     "metadata": {},
     "output_type": "execute_result"
    }
   ],
   "source": [
    "arr.shape"
   ]
  },
  {
   "cell_type": "code",
   "execution_count": null,
   "id": "53f93f89-aa81-492b-bcf2-82405d8636b0",
   "metadata": {},
   "outputs": [],
   "source": [
    "arr.reshape()"
   ]
  },
  {
   "cell_type": "code",
   "execution_count": 11,
   "id": "a1da1ff7-b667-400b-92a9-5b6dbe89bb32",
   "metadata": {},
   "outputs": [],
   "source": [
    "my_list1=[1,2,3,4,5]\n",
    "my_list2=[5,2,3,4,5]\n",
    "my_list3=[7,2,3,4,5]\n",
    "arr=np.array([my_list1,my_list2,my_list3])"
   ]
  },
  {
   "cell_type": "code",
   "execution_count": 12,
   "id": "ed313e9b-da08-4801-8478-49f587dce2c5",
   "metadata": {},
   "outputs": [
    {
     "data": {
      "text/plain": [
       "array([[1, 2, 3, 4, 5],\n",
       "       [5, 2, 3, 4, 5],\n",
       "       [7, 2, 3, 4, 5]])"
      ]
     },
     "execution_count": 12,
     "metadata": {},
     "output_type": "execute_result"
    }
   ],
   "source": [
    "arr"
   ]
  },
  {
   "cell_type": "code",
   "execution_count": 13,
   "id": "ee431133-7817-4bf6-88f8-3a1954442fd9",
   "metadata": {},
   "outputs": [
    {
     "data": {
      "text/plain": [
       "(3, 5)"
      ]
     },
     "execution_count": 13,
     "metadata": {},
     "output_type": "execute_result"
    }
   ],
   "source": [
    "arr.shape"
   ]
  },
  {
   "cell_type": "code",
   "execution_count": 14,
   "id": "aaaa9372-1682-428a-a89c-4775e3afdb04",
   "metadata": {},
   "outputs": [
    {
     "data": {
      "text/plain": [
       "array([[1, 2, 3],\n",
       "       [4, 5, 5],\n",
       "       [2, 3, 4],\n",
       "       [5, 7, 2],\n",
       "       [3, 4, 5]])"
      ]
     },
     "execution_count": 14,
     "metadata": {},
     "output_type": "execute_result"
    }
   ],
   "source": [
    "arr.reshape(5,3)"
   ]
  }
 ],
 "metadata": {
  "kernelspec": {
   "display_name": "Python 3 (ipykernel)",
   "language": "python",
   "name": "python3"
  },
  "language_info": {
   "codemirror_mode": {
    "name": "ipython",
    "version": 3
   },
   "file_extension": ".py",
   "mimetype": "text/x-python",
   "name": "python",
   "nbconvert_exporter": "python",
   "pygments_lexer": "ipython3",
   "version": "3.11.4"
  }
 },
 "nbformat": 4,
 "nbformat_minor": 5
}
